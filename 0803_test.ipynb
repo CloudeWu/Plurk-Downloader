{
 "cells": [
  {
   "cell_type": "markdown",
   "metadata": {},
   "source": [
    "## reference\n",
    " * [偷偷說爬蟲by Go](https://city.shaform.com/zh/2019/01/11/plurk-crawler/) \n",
    " * [Requests Docs](https://2.python-requests.org/en/master/api)\n",
    " * [bs4 Docs](https://www.crummy.com/software/BeautifulSoup/bs4/doc) \n",
    " * [bs4 simple intro](https://blog.gtwang.org/programming/python-beautiful-soup-module-scrape-web-pages-tutorial/2/)\n",
    " * [Plurk API 2.0](https://www.plurk.com/API)"
   ]
  },
  {
   "cell_type": "code",
   "execution_count": 2,
   "metadata": {},
   "outputs": [],
   "source": [
    "# import packages\n",
    "from __future__ import print_function\n",
    "\n",
    "from mdutils.mdutils import MdUtils # help to create a markdown file\n",
    "from bs4 import BeautifulSoup as bs # for html parsing\n",
    "import requests as rq\n",
    "import slimit\n",
    "from slimit.parser import Parser\n",
    "from slimit.visitors.nodevisitor import ASTVisitor"
   ]
  },
  {
   "cell_type": "markdown",
   "metadata": {},
   "source": [
    "### 0803 - testing \n",
    "> Little Goal: input plurk link and get some md"
   ]
  },
  {
   "cell_type": "code",
   "execution_count": 3,
   "metadata": {},
   "outputs": [],
   "source": [
    "\"\"\"\n",
    "\" A Visitor inheritate slimit.visitors.ASTVisitor.\n",
    "\" To traverse the parse tree and transform to python dictionary\n",
    "\"\"\"\n",
    "class JSVisitor(ASTVisitor):\n",
    "    def __init__(self, dic):\n",
    "        self.json = dic\n",
    "    \"\"\"\n",
    "    \"  Traverse function\n",
    "    \"\"\"\n",
    "    def visit_Object(self, node):\n",
    "        for prop in node:\n",
    "            left, right = prop.left, prop.right\n",
    "            key = left.value[1:-1]   # deliminate quotes\n",
    "            try:\n",
    "                value = self.GetValue(right)\n",
    "            except ValueError as e:\n",
    "                print(\"ValueError: {}\".format(str(e)))\n",
    "            # print(\"Property key={}, value={}\".format(key, value))\n",
    "            self.json[key] = value\n",
    "            # visit all children in turn\n",
    "            self.visit(prop)\n",
    "    \"\"\"\n",
    "    \"  To get and transform values from AST nodes.\n",
    "    \"\"\"    \n",
    "    def GetValue(self, node):\n",
    "        node_type = type(node)\n",
    "        if node_type is slimit.ast.NewExpr:\n",
    "            return \"NewExpr\"\n",
    "        if node_type is slimit.ast.Boolean:\n",
    "            if node.value == 'false':\n",
    "                return False\n",
    "            if node.value == 'true':\n",
    "                return True\n",
    "            raise ValueError(\"Unknow value of node: {}\".format(node.value))\n",
    "        if node_type is slimit.ast.String:\n",
    "            return node.value[1:-1]   # deliminate quotes\n",
    "        if node_type is slimit.ast.Number:\n",
    "            return int(node.value)\n",
    "        if node_type is slimit.ast.Null:\n",
    "            return None\n",
    "        if node_type is slimit.ast.Array:\n",
    "            array = [self.GetValue(n) for n in node.items]\n",
    "            return array\n",
    "        raise ValueError(\"Unknow node type: {}\".format(node_type))"
   ]
  },
  {
   "cell_type": "code",
   "execution_count": 4,
   "metadata": {},
   "outputs": [],
   "source": [
    "def get_content_by_link(plurk_url):\n",
    "    \n",
    "    # request plurk content from plurk.com\n",
    "    with rq.Session() as sess:    \n",
    "        plurk = sess.get(plurk_url)\n",
    "        if plurk.status_code == rq.codes.ok:\n",
    "            print(\"Request Success! Status: {}.\".format(plurk.status_code))\n",
    "        else:\n",
    "            print(\"Request fail. Status: {}.\".format(plurk.status_code))\n",
    "            return 'Fail QAQ'\n",
    "            \n",
    "    # read content of HTML\n",
    "    soup = bs(plurk.text)\n",
    "    # extract the last script out\n",
    "    script = soup.find_all(\"script\")[-1].string\n",
    "    \n",
    "    plurk_content = {}\n",
    "\n",
    "    parser = Parser()\n",
    "    json_tree = parser.parse(script)    # construct parse tree\n",
    "    visitor = JSVisitor(plurk_content)\n",
    "    visitor.visit(json_tree)            # traverse the tree\n",
    "\n",
    "    # response\n",
    "    request_url = \"https://www.plurk.com/Responses/get\"\n",
    "    data = {'plurk_id': plurk_content.get('id'), 'from_response_id': '0'}\n",
    "    print(data)\n",
    "    \n",
    "    with rq.Session() as sess:\n",
    "        # request response from Responses/get, and use plurk_id as data to tell website which plurk we are requesting\n",
    "        # sess.post means HTTP POST\n",
    "        response = sess.post(request_url, data=data)\n",
    "        if response.status_code == rq.codes.ok:\n",
    "            print(\"Request Success! Status: {}.\".format(response.status_code))\n",
    "        else:\n",
    "            print(\"Request fail. Status: {}.\".format(response.status_code))\n",
    "    \n",
    "    response_content = response.json()\n",
    "    return plurk_content, response_content\n",
    "    "
   ]
  },
  {
   "cell_type": "code",
   "execution_count": 49,
   "metadata": {
    "scrolled": true
   },
   "outputs": [
    {
     "data": {
      "text/plain": [
       "<mdutils.fileutils.fileutils.MarkDownFile at 0x184f64c57f0>"
      ]
     },
     "execution_count": 49,
     "metadata": {},
     "output_type": "execute_result"
    }
   ],
   "source": [
    "#  plurk_id, favorite_count, owner_id, \n",
    "# coins, qualifier, response_count, \n",
    "# replurkers_count, anonymous, last_edited, \n",
    "# no_comments, posted, lang, content_raw\n",
    "##################### \n",
    "#                   #\n",
    "#   Main Function   #\n",
    "#                   #\n",
    "##################### \n",
    "# plurk, content = get_content_by_link('https://www.plurk.com/p/nf00yf')\n",
    "users = content.get('users')\n",
    "md_file = MdUtils(file_name='plurk_test',title='plurk_test_v0')\n",
    "\n",
    "# info\n",
    "md_file.new_line(str(content.get('response_count'))+'則回應',color='#E8E8E8')\n",
    "\n",
    "# 製作每則回應\n",
    "for response in content.get('responses'):\n",
    "    user_id = str(response.get('user_id'))\n",
    "\n",
    "    # User #\n",
    "    # user profile image\n",
    "    has_profile_image = users.get(user_id).get('has_profile_image')\n",
    "    avatar = users.get(user_id).get('avatar')\n",
    "    if has_profile_image == 1 and avatar != None:\n",
    "        md_file.new_paragraph(\"![U](https://avatars.plurk.com/\"+user_id+\"-small\"+str(avatar)+\".gif) \")\n",
    "    elif has_profile_image == 1 and avatar == None:\n",
    "        md_file.new_paragraph(\"![U](https://avatars.plurk.com/\"+user_id+\"-small.gif) \")\n",
    "    else:\n",
    "        md_file.new_paragraph(\"![U](https://www.plurk.com/static/default_small.gif) \")\n",
    "        \n",
    "    # user name\n",
    "    name = users.get(user_id).get('display_name')\n",
    "    color = users.get(user_id).get('name_color')\n",
    "    if color == None:\n",
    "        md_file.write(name, bold_italics_code='b', color='#DDDDDD')        \n",
    "    else:\n",
    "        md_file.write(name, bold_italics_code='b', color='#'+color)\n",
    "        \n",
    "    # Response #\n",
    "    # user response\n",
    "    md_file.new_line(response.get('content'))\n",
    "    md_file.new_line(response.get('posted'))\n",
    "\n",
    "md_file.create_md_file()"
   ]
  }
 ],
 "metadata": {
  "kernelspec": {
   "display_name": "Python 3",
   "language": "python",
   "name": "python3"
  },
  "language_info": {
   "codemirror_mode": {
    "name": "ipython",
    "version": 3
   },
   "file_extension": ".py",
   "mimetype": "text/x-python",
   "name": "python",
   "nbconvert_exporter": "python",
   "pygments_lexer": "ipython3",
   "version": "3.7.3"
  }
 },
 "nbformat": 4,
 "nbformat_minor": 2
}
