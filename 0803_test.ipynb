{
 "cells": [
  {
   "cell_type": "markdown",
   "metadata": {},
   "source": [
    "## reference\n",
    " * [偷偷說爬蟲by Go](https://city.shaform.com/zh/2019/01/11/plurk-crawler/) \n",
    " * [Requests Docs](https://2.python-requests.org/en/master/api)\n",
    " * [bs4 Docs](https://www.crummy.com/software/BeautifulSoup/bs4/doc) \n",
    " * [bs4 simple intro](https://blog.gtwang.org/programming/python-beautiful-soup-module-scrape-web-pages-tutorial/2/)\n",
    " * [Plurk API 2.0](https://www.plurk.com/API)"
   ]
  },
  {
   "cell_type": "code",
   "execution_count": 1,
   "metadata": {},
   "outputs": [],
   "source": [
    "# import packages\n",
    "from __future__ import print_function\n",
    "\n",
    "from mdutils.mdutils import MdUtils # help to create a markdown file\n",
    "from bs4 import BeautifulSoup as bs # for html parsing\n",
    "import requests as rq\n",
    "import slimit\n",
    "from slimit.parser import Parser\n",
    "from slimit.visitors.nodevisitor import ASTVisitor"
   ]
  },
  {
   "cell_type": "markdown",
   "metadata": {},
   "source": [
    "### 0803 - testing \n",
    "> Little Goal: input plurk link and get some md"
   ]
  },
  {
   "cell_type": "code",
   "execution_count": 2,
   "metadata": {},
   "outputs": [],
   "source": [
    "\"\"\"\n",
    "\" A Visitor inheritate slimit.visitors.ASTVisitor.\n",
    "\" To traverse the parse tree and transform to python dictionary\n",
    "\"\"\"\n",
    "class JSVisitor(ASTVisitor):\n",
    "    def __init__(self, dic):\n",
    "        self.json = dic\n",
    "    \"\"\"\n",
    "    \"  Traverse function\n",
    "    \"\"\"\n",
    "    def visit_Object(self, node):\n",
    "        for prop in node:\n",
    "            left, right = prop.left, prop.right\n",
    "            key = left.value[1:-1]   # deliminate quotes\n",
    "            try:\n",
    "                value = self.GetValue(right)\n",
    "            except ValueError as e:\n",
    "                print(\"ValueError: {}\".format(str(e)))\n",
    "            # print(\"Property key={}, value={}\".format(key, value))\n",
    "            self.json[key] = value\n",
    "            # visit all children in turn\n",
    "            self.visit(prop)\n",
    "    \"\"\"\n",
    "    \"  To get and transform values from AST nodes.\n",
    "    \"\"\"    \n",
    "    def GetValue(self, node):\n",
    "        node_type = type(node)\n",
    "        if node_type is slimit.ast.NewExpr:\n",
    "            return \"NewExpr\"\n",
    "        if node_type is slimit.ast.Boolean:\n",
    "            if node.value == 'false':\n",
    "                return False\n",
    "            if node.value == 'true':\n",
    "                return True\n",
    "            raise ValueError(\"Unknow value of node: {}\".format(node.value))\n",
    "        if node_type is slimit.ast.String:\n",
    "            return node.value[1:-1]   # deliminate quotes\n",
    "        if node_type is slimit.ast.Number:\n",
    "            return int(node.value)\n",
    "        if node_type is slimit.ast.Null:\n",
    "            return None\n",
    "        if node_type is slimit.ast.Array:\n",
    "            array = [self.GetValue(n) for n in node.items]\n",
    "            return array\n",
    "        raise ValueError(\"Unknow node type: {}\".format(node_type))"
   ]
  },
  {
   "cell_type": "code",
   "execution_count": 3,
   "metadata": {},
   "outputs": [],
   "source": [
    "def get_content_by_link(plurk_url):\n",
    "    \n",
    "    # request plurk content from plurk.com\n",
    "    with rq.Session() as sess:    \n",
    "        plurk = sess.get(plurk_url)\n",
    "        if plurk.status_code == rq.codes.ok:\n",
    "            print(\"Request Success! Status: {}.\".format(plurk.status_code))\n",
    "        else:\n",
    "            print(\"Request fail. Status: {}.\".format(plurk.status_code))\n",
    "            return 'Fail QAQ'\n",
    "            \n",
    "    # read content of HTML\n",
    "    soup = bs(plurk.text)\n",
    "    # extract the last script out\n",
    "    script = soup.find_all(\"script\")[-1].string\n",
    "    \n",
    "    plurk_content = {}\n",
    "\n",
    "    parser = Parser()\n",
    "    json_tree = parser.parse(script)    # construct parse tree\n",
    "    visitor = JSVisitor(plurk_content)\n",
    "    visitor.visit(json_tree)            # traverse the tree\n",
    "\n",
    "    # response\n",
    "    request_url = \"https://www.plurk.com/Responses/get\"\n",
    "    data = {'plurk_id': plurk_content.get('id'), 'from_response_id': '0'}\n",
    "    print(data)\n",
    "    \n",
    "    with rq.Session() as sess:\n",
    "        # request response from Responses/get, and use plurk_id as data to tell website which plurk we are requesting\n",
    "        # sess.post means HTTP POST\n",
    "        response = sess.post(request_url, data=data)\n",
    "        if response.status_code == rq.codes.ok:\n",
    "            print(\"Request Success! Status: {}.\".format(response.status_code))\n",
    "        else:\n",
    "            print(\"Request fail. Status: {}.\".format(response.status_code))\n",
    "    \n",
    "    response_content = response.json()\n",
    "    return plurk_content, soup, response_content\n",
    "    "
   ]
  },
  {
   "cell_type": "code",
   "execution_count": 4,
   "metadata": {
    "scrolled": false
   },
   "outputs": [],
   "source": [
    "##################### \n",
    "#                   #\n",
    "#   Main Function   #\n",
    "#                   #\n",
    "##################### \n",
    "def get_raw_plurk(link):\n",
    "    plurk_info, plurk_html, content = get_content_by_link(link)\n",
    "\n",
    "    head = plurk_html.find_all(\"div\", class_=\"plurk\")  \n",
    "    string = ''\n",
    "    for owo in head[0].find(\"div\", class_=\"text_holder\"):\n",
    "        string += str(owo)  \n",
    "\n",
    "    raw_data = {\n",
    "        \"plurk_info\": {\n",
    "            \"plurk_id\":plurk_info.get('id'),\n",
    "            \"user_id\":plurk_info.get('user_id'),\n",
    "            \"favorite_count\":plurk_info.get('favorite_count'),\n",
    "            \"response_count\":plurk_info.get('response_count'),\n",
    "            \"replurkers_count\":plurk_info.get('replurkers_count'),\n",
    "            \"coins\":plurk_info.get('coins'),\n",
    "            \"qualifier\":plurk_info.get('qualifier'),\n",
    "            \"anonymous\":plurk_info.get('anonymous'),\n",
    "            \"st_edited\":plurk_info.get('st_edited'),\n",
    "            \"no_comments\":plurk_info.get('no_comments'),\n",
    "            \"posted\":plurk_info.get('posted'),\n",
    "            \"lang\":plurk_info.get('lang'),\n",
    "            \"content\":plurk_info.get('content'),\n",
    "            \"content_raw\":plurk_info.get('content_raw'),\n",
    "        },\n",
    "        \"plurk\":{\n",
    "            \"poster_img\": head[0].find(\"img\").get(\"src\"),\n",
    "            \"poster_name\": head[0].find(\"a\", class_=\"name\").text,\n",
    "            \"post_time\": head[0].find(\"time\", class_=\"timeago\")['datetime'],\n",
    "            \"post_content\": string,\n",
    "            \"response_count\": content.get('response_count')        \n",
    "        },\n",
    "        \"response\":[]\n",
    "    }\n",
    "\n",
    "\n",
    "    users = content.get('users')\n",
    "    for response in content.get('responses'):\n",
    "        user_id = str(response.get('user_id'))\n",
    "\n",
    "        # user profile image\n",
    "        has_profile_image = users.get(user_id).get('has_profile_image')\n",
    "        avatar = users.get(user_id).get('avatar')\n",
    "        if has_profile_image == 1 and avatar != None:\n",
    "            user_img = \"https://avatars.plurk.com/\" + user_id + \"-small\"+str(avatar)+\".gif\"\n",
    "        elif has_profile_image == 1 and avatar == None:\n",
    "            user_img = \"https://avatars.plurk.com/\" + user_id + \"-small.gif\"\n",
    "        else:\n",
    "            user_img = \"https://www.plurk.com/static/default_small.gif\"\n",
    "\n",
    "        # every response \n",
    "        raw_data['response'].append({\n",
    "            \"user_id\": user_id,\n",
    "            \"user_img\": user_img,\n",
    "            \"user_name\": users.get(user_id).get('display_name'),\n",
    "            \"name_color\": users.get(user_id).get('name_color'),\n",
    "            \"content_raw\": response.get('content_raw'),\n",
    "            \"content\": response.get('content'),\n",
    "            \"posted\":response.get('posted')\n",
    "        })\n",
    "\n",
    "    return raw_data"
   ]
  },
  {
   "cell_type": "code",
   "execution_count": 5,
   "metadata": {},
   "outputs": [
    {
     "name": "stdout",
     "output_type": "stream",
     "text": [
      "Plurk url: https://www.plurk.com/p/nfpfpy\n",
      "Request Success! Status: 200.\n",
      "{'plurk_id': 1417103062, 'from_response_id': '0'}\n",
      "Request Success! Status: 200.\n"
     ]
    },
    {
     "data": {
      "text/plain": [
       "{'plurk_info': {'plurk_id': 1417103062,\n",
       "  'user_id': 5518938,\n",
       "  'favorite_count': 13,\n",
       "  'response_count': 1,\n",
       "  'replurkers_count': 11,\n",
       "  'coins': 0,\n",
       "  'qualifier': ':',\n",
       "  'anonymous': False,\n",
       "  'st_edited': None,\n",
       "  'no_comments': 0,\n",
       "  'posted': 'NewExpr',\n",
       "  'lang': 'tr_ch',\n",
       "  'content': '[CWT52\\\\u5de5\\\\u5546]<br />\\\\u300a\\\\u5922\\\\u672c\\\\u300b\\\\u5c11\\\\u91cf\\\\u5bc4\\\\u6524\\\\u5728\\\\u4e00\\\\u6a13M30 \\\\u521d\\\\u96e8\\\\u971c\\\\u83ef <br />\\\\u624b\\\\u52d5\\\\u8f49\\\\u5657\\\\u8cc7\\\\u8a0a<br /><a href=\\\\\"https://www.plurk.com/p/nfntk5\\\\\" class=\\\\\"ex_link meta plink\\\\\" rel=\\\\\"nofollow\\\\\"><img src=\\\\\"https://images.plurk.com/mx_13eZPYUFmJJ0G7gLMEo7TZ.jpg\\\\\" height=\\\\\"40px\\\\\">@tsubasaeve - \\\\u3010\\\\u5de5\\\\u5546|CWT52\\\\u3011\\\\u8f49\\\\u5657\\\\u611f\\\\u8b1d~~ \\\\u5169\\\\u5929\\\\u90fd\\\\u5728\\\\u4e00\\\\u6a13M30\\\\u5594~\\\\u9664\\\\u4e86\\\\u65b0\\\\u520a\\\\u4e00\\\\u672c\\\\uff0c\\\\u9084\\\\u6709\\\\u4e4b...</a>\\\\u611f\\\\u8b1d~',\n",
       "  'content_raw': '[CWT52\\\\u5de5\\\\u5546]\\\\n\\\\u300a\\\\u5922\\\\u672c\\\\u300b\\\\u5c11\\\\u91cf\\\\u5bc4\\\\u6524\\\\u5728\\\\u4e00\\\\u6a13M30 \\\\u521d\\\\u96e8\\\\u971c\\\\u83ef \\\\n\\\\u624b\\\\u52d5\\\\u8f49\\\\u5657\\\\u8cc7\\\\u8a0a\\\\nhttps://www.plurk.com/p/nfntk5\\\\n\\\\u611f\\\\u8b1d~'},\n",
       " 'plurk': {'poster_img': 'https://avatars.plurk.com/5518938-medium18.gif',\n",
       "  'poster_name': '變形蟲',\n",
       "  'post_time': '2019-08-06T13:05:19Z',\n",
       "  'post_content': '[CWT52工商]<br/>《夢本》少量寄攤在一樓M30 初雨霜華 <br/>手動轉噗資訊<br/><a class=\"ex_link meta plink\" href=\"https://www.plurk.com/p/nfntk5\" rel=\"nofollow\"><img height=\"40px\" src=\"https://images.plurk.com/mx_13eZPYUFmJJ0G7gLMEo7TZ.jpg\"/>@tsubasaeve - 【工商|CWT52】轉噗感謝~~ 兩天都在一樓M30喔~除了新刊一本，還有之...</a>感謝~',\n",
       "  'response_count': 1},\n",
       " 'response': [{'user_id': '4219336',\n",
       "   'user_img': 'https://avatars.plurk.com/4219336-small6910400.gif',\n",
       "   'user_name': '八神月寒',\n",
       "   'name_color': '2264D6',\n",
       "   'content_raw': '謝謝太太呀~~希望搶得到~~',\n",
       "   'content': '謝謝太太呀~~希望搶得到~~',\n",
       "   'posted': 'Tue, 06 Aug 2019 13:26:47 GMT'}]}"
      ]
     },
     "execution_count": 5,
     "metadata": {},
     "output_type": "execute_result"
    }
   ],
   "source": [
    "url = input('Plurk url: ')\n",
    "raw_data = get_raw_plurk(url)\n",
    "raw_data"
   ]
  },
  {
   "cell_type": "code",
   "execution_count": 6,
   "metadata": {
    "scrolled": false
   },
   "outputs": [
    {
     "data": {
      "text/plain": [
       "<mdutils.fileutils.fileutils.MarkDownFile at 0x281c9cb1cf8>"
      ]
     },
     "execution_count": 6,
     "metadata": {},
     "output_type": "execute_result"
    }
   ],
   "source": [
    "##################### \n",
    "#                   #\n",
    "#      Makedown     #\n",
    "#                   #\n",
    "#####################\n",
    "\n",
    "md_file = MdUtils(file_name='plurk_test',title='plurk_test_v0')\n",
    "\n",
    "md_file.new_paragraph(\"![U](\" + raw_data['plurk']['poster_img'] + \")\")\n",
    "md_file.write(raw_data['plurk']['poster_name'], bold_italics_code='b', color='#DDDDDD')\n",
    "md_file.new_line(raw_data['plurk']['post_content'])\n",
    "md_file.new_line(raw_data['plurk']['post_time'])\n",
    "md_file.write('\\n___')\n",
    "\n",
    "md_file.new_line(str(raw_data['plurk']['response_count'])+'則回應',color='#E8E8E8')\n",
    "for i in raw_data['response']:\n",
    "    md_file.new_paragraph(\"![U](\"+i['user_img']+\")\")\n",
    "\n",
    "    if i['name_color'] == None:\n",
    "        md_file.write(i['user_name'], bold_italics_code='b', color='#DDDDDD')        \n",
    "    else:\n",
    "        md_file.write(i['user_name'], bold_italics_code='b', color='#'+i['name_color'])\n",
    "\n",
    "    md_file.new_line(i['content_raw'])\n",
    "    md_file.new_line(i['posted'])\n",
    "\n",
    "md_file.create_md_file()"
   ]
  }
 ],
 "metadata": {
  "kernelspec": {
   "display_name": "Python 3",
   "language": "python",
   "name": "python3"
  },
  "language_info": {
   "codemirror_mode": {
    "name": "ipython",
    "version": 3
   },
   "file_extension": ".py",
   "mimetype": "text/x-python",
   "name": "python",
   "nbconvert_exporter": "python",
   "pygments_lexer": "ipython3",
   "version": "3.7.3"
  }
 },
 "nbformat": 4,
 "nbformat_minor": 2
}
