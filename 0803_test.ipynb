{
 "cells": [
  {
   "cell_type": "markdown",
   "metadata": {},
   "source": [
    "## reference\n",
    " * [偷偷說爬蟲by Go](https://city.shaform.com/zh/2019/01/11/plurk-crawler/) \n",
    " * [Requests Docs](https://2.python-requests.org/en/master/api)\n",
    " * [bs4 Docs](https://www.crummy.com/software/BeautifulSoup/bs4/doc) \n",
    " * [bs4 simple intro](https://blog.gtwang.org/programming/python-beautiful-soup-module-scrape-web-pages-tutorial/2/)\n",
    " * [Plurk API 2.0](https://www.plurk.com/API)"
   ]
  },
  {
   "cell_type": "code",
   "execution_count": 15,
   "metadata": {},
   "outputs": [],
   "source": [
    "# import packages\n",
    "from __future__ import print_function\n",
    "\n",
    "from mdutils.mdutils import MdUtils # help to create a markdown file\n",
    "from bs4 import BeautifulSoup as bs # for html parsing\n",
    "import requests as rq\n",
    "import slimit\n",
    "from slimit.parser import Parser\n",
    "from slimit.visitors.nodevisitor import ASTVisitor"
   ]
  },
  {
   "cell_type": "markdown",
   "metadata": {},
   "source": [
    "### 0803 - testing \n",
    "> Little Goal: input plurk link and get some md"
   ]
  },
  {
   "cell_type": "code",
   "execution_count": 16,
   "metadata": {},
   "outputs": [],
   "source": [
    "\"\"\"\n",
    "\" A Visitor inheritate slimit.visitors.ASTVisitor.\n",
    "\" To traverse the parse tree and transform to python dictionary\n",
    "\"\"\"\n",
    "class JSVisitor(ASTVisitor):\n",
    "    def __init__(self, dic):\n",
    "        self.json = dic\n",
    "    \"\"\"\n",
    "    \"  Traverse function\n",
    "    \"\"\"\n",
    "    def visit_Object(self, node):\n",
    "        for prop in node:\n",
    "            left, right = prop.left, prop.right\n",
    "            key = left.value[1:-1]   # deliminate quotes\n",
    "            try:\n",
    "                value = self.GetValue(right)\n",
    "            except ValueError as e:\n",
    "                print(\"ValueError: {}\".format(str(e)))\n",
    "            # print(\"Property key={}, value={}\".format(key, value))\n",
    "            self.json[key] = value\n",
    "            # visit all children in turn\n",
    "            self.visit(prop)\n",
    "    \"\"\"\n",
    "    \"  To get and transform values from AST nodes.\n",
    "    \"\"\"    \n",
    "    def GetValue(self, node):\n",
    "        node_type = type(node)\n",
    "        if node_type is slimit.ast.NewExpr:\n",
    "            return \"NewExpr\"\n",
    "        if node_type is slimit.ast.Boolean:\n",
    "            if node.value == 'false':\n",
    "                return False\n",
    "            if node.value == 'true':\n",
    "                return True\n",
    "            raise ValueError(\"Unknow value of node: {}\".format(node.value))\n",
    "        if node_type is slimit.ast.String:\n",
    "            return node.value[1:-1]   # deliminate quotes\n",
    "        if node_type is slimit.ast.Number:\n",
    "            return int(node.value)\n",
    "        if node_type is slimit.ast.Null:\n",
    "            return None\n",
    "        if node_type is slimit.ast.Array:\n",
    "            array = [self.GetValue(n) for n in node.items]\n",
    "            return array\n",
    "        raise ValueError(\"Unknow node type: {}\".format(node_type))"
   ]
  },
  {
   "cell_type": "code",
   "execution_count": 17,
   "metadata": {},
   "outputs": [],
   "source": [
    "def get_content_by_link(plurk_url):\n",
    "    \n",
    "    # request plurk content from plurk.com\n",
    "    with rq.Session() as sess:    \n",
    "        plurk = sess.get(plurk_url)\n",
    "        if plurk.status_code == rq.codes.ok:\n",
    "            print(\"Request Success! Status: {}.\".format(plurk.status_code))\n",
    "        else:\n",
    "            print(\"Request fail. Status: {}.\".format(plurk.status_code))\n",
    "            return 'Fail QAQ'\n",
    "            \n",
    "    # read content of HTML\n",
    "    soup = bs(plurk.text)\n",
    "    # extract the last script out\n",
    "    script = soup.find_all(\"script\")[-1].string\n",
    "    \n",
    "    plurk_content = {}\n",
    "\n",
    "    parser = Parser()\n",
    "    json_tree = parser.parse(script)    # construct parse tree\n",
    "    visitor = JSVisitor(plurk_content)\n",
    "    visitor.visit(json_tree)            # traverse the tree\n",
    "\n",
    "    # response\n",
    "    request_url = \"https://www.plurk.com/Responses/get\"\n",
    "    data = {'plurk_id': plurk_content.get('id'), 'from_response_id': '0'}\n",
    "    print(data)\n",
    "    \n",
    "    with rq.Session() as sess:\n",
    "        # request response from Responses/get, and use plurk_id as data to tell website which plurk we are requesting\n",
    "        # sess.post means HTTP POST\n",
    "        response = sess.post(request_url, data=data)\n",
    "        if response.status_code == rq.codes.ok:\n",
    "            print(\"Request Success! Status: {}.\".format(response.status_code))\n",
    "        else:\n",
    "            print(\"Request fail. Status: {}.\".format(response.status_code))\n",
    "    \n",
    "    response_content = response.json()\n",
    "    return plurk_content, response_content\n",
    "    "
   ]
  },
  {
   "cell_type": "code",
   "execution_count": 18,
   "metadata": {
    "scrolled": true
   },
   "outputs": [
    {
     "name": "stdout",
     "output_type": "stream",
     "text": [
      "Request Success! Status: 200.\n"
     ]
    },
    {
     "name": "stderr",
     "output_type": "stream",
     "text": [
      "WARNING: Couldn't write lextab module <module 'slimit.lextab' from 'C:\\\\Users\\\\a0933\\\\Anaconda3\\\\lib\\\\site-packages\\\\slimit\\\\lextab.py'>. Won't overwrite existing lextab module\n",
      "WARNING: yacc table file version is out of date\n",
      "WARNING: Token 'BLOCK_COMMENT' defined, but not used\n",
      "WARNING: Token 'CLASS' defined, but not used\n",
      "WARNING: Token 'CONST' defined, but not used\n",
      "WARNING: Token 'ENUM' defined, but not used\n",
      "WARNING: Token 'EXPORT' defined, but not used\n",
      "WARNING: Token 'EXTENDS' defined, but not used\n",
      "WARNING: Token 'IMPORT' defined, but not used\n",
      "WARNING: Token 'LINE_COMMENT' defined, but not used\n",
      "WARNING: Token 'LINE_TERMINATOR' defined, but not used\n",
      "WARNING: Token 'SUPER' defined, but not used\n",
      "WARNING: There are 10 unused tokens\n",
      "WARNING: Couldn't create <module 'slimit.yacctab' from 'C:\\\\Users\\\\a0933\\\\Anaconda3\\\\lib\\\\site-packages\\\\slimit\\\\yacctab.py'>. Won't overwrite existing tabmodule\n"
     ]
    },
    {
     "name": "stdout",
     "output_type": "stream",
     "text": [
      "{'plurk_id': 1415917527, 'from_response_id': '0'}\n",
      "Request Success! Status: 200.\n",
      "None\n",
      "86CA6F\n",
      "None\n",
      "None\n",
      "None\n",
      "FFA59A\n",
      "None\n",
      "E8AF37\n",
      "0A9C17\n",
      "FF9B65\n",
      "86CA6F\n",
      "86CA6F\n",
      "BA8FBE\n",
      "FFA59A\n",
      "E41227\n",
      "2264D6\n",
      "2264D6\n",
      "63C6D3\n",
      "63C6D3\n",
      "2264D6\n",
      "2264D6\n",
      "0A9C17\n",
      "FFA59A\n",
      "2264D6\n",
      "None\n",
      "None\n",
      "BA8FBE\n",
      "FFA59A\n",
      "E41227\n",
      "E41227\n"
     ]
    }
   ],
   "source": [
    "#  plurk_id, favorite_count, owner_id, \n",
    "# coins, qualifier, response_count, \n",
    "# replurkers_count, anonymous, last_edited, \n",
    "# no_comments, posted, lang, content_raw\n",
    "##################### \n",
    "#                   #\n",
    "#   Main Function   #\n",
    "#                   #\n",
    "##################### \n",
    "plurk, content = get_content_by_link('https://www.plurk.com/p/nf00yf')\n",
    "responses = content.get('responses')\n",
    "users = content.get('users')\n",
    "md_file = MdUtils(file_name='plurk_test',title='plurk_test_v0')\n",
    "\n",
    "# 製作每則回應\n",
    "for response in responses:\n",
    "    color = users.get(str(response.get('user_id'))).get('name_color')\n",
    "    print(color)\n",
    "#     name = users.get(str(response.get('user_id'))).get('display_name')\n",
    "#     md_file.new_paragraph(name, bold_italics_code='b', color='#DDDDDD')\n",
    "#     md_file.new_line(response.get('content'))\n",
    "\n",
    "# md_file.create_md_file()"
   ]
  }
 ],
 "metadata": {
  "kernelspec": {
   "display_name": "Python 3",
   "language": "python",
   "name": "python3"
  },
  "language_info": {
   "codemirror_mode": {
    "name": "ipython",
    "version": 3
   },
   "file_extension": ".py",
   "mimetype": "text/x-python",
   "name": "python",
   "nbconvert_exporter": "python",
   "pygments_lexer": "ipython3",
   "version": "3.7.3"
  }
 },
 "nbformat": 4,
 "nbformat_minor": 2
}
